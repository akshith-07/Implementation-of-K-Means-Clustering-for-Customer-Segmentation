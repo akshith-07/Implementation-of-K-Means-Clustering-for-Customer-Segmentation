{
 "cells": [
  {
   "cell_type": "code",
   "execution_count": null,
   "metadata": {},
   "outputs": [],
   "source": [
    "import pandas as pd\n",
    "import matplotlib.pyplot as plt\n",
    "data=pd.read_csv(\"/content/Mall_Customers (1).csv\")\n",
    "\n",
    "data.head()\n",
    "data.info()\n",
    "data.isnull().sum()\n",
    "\n",
    "from sklearn.cluster import KMeans\n",
    "wcss=[] #within cluster sum of square\n",
    "\n",
    "for i in range(1,11):\n",
    "  kmeans = KMeans(n_clusters=i,init=\"k-means++\")\n",
    "  kmeans.fit(data.iloc[:,3:])\n",
    "  wcss.append(kmeans.inertia_)\n",
    "  plt.plot(range(1,11),wcss)\n",
    "\n",
    "plt.xlabel(\"No of clusters\")\n",
    "plt.ylabel(\"wcss\")\n",
    "plt.title(\"Elbow Method\")\n",
    "km=KMeans(n_clusters=5)\n",
    "km.fit(data.iloc[:,3:])\n",
    "y_pred=km.predict(data.iloc[:,3:])\n",
    "y_pred\n",
    "\n",
    "data[\"cluster\"]=y_pred\n",
    "df0=data[data[\"cluster\"]==0]\n",
    "df1=data[data[\"cluster\"]==1]\n",
    "df2=data[data[\"cluster\"]==2]\n",
    "df3=data[data[\"cluster\"]==3]\n",
    "df4=data[data[\"cluster\"]==4]\n",
    "\n",
    "plt.scatter(df0[\"Annual Income (k$)\"],df0[\"Spending Score (1-100)\"],c=\"red\",label=\"cluster0\")\n",
    "plt.scatter(df1[\"Annual Income (k$)\"],df1[\"Spending Score (1-100)\"],c=\"black\",label=\"cluster1\")\n",
    "plt.scatter(df2[\"Annual Income (k$)\"],df2[\"Spending Score (1-100)\"],c=\"blue\",label=\"cluster2\")\n",
    "plt.scatter(df3[\"Annual Income (k$)\"],df3[\"Spending Score (1-100)\"],c=\"green\",label=\"cluster3\")\n",
    "plt.scatter(df4[\"Annual Income (k$)\"],df4[\"Spending Score (1-100)\"],c=\"magenta\",label=\"cluster4\")\n",
    "plt.legend()\n",
    "\n",
    "plt.title(\"customer segments\")"
   ]
  }
 ],
 "metadata": {
  "language_info": {
   "name": "python"
  },
  "orig_nbformat": 4
 },
 "nbformat": 4,
 "nbformat_minor": 2
}
